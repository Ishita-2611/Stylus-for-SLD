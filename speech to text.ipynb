{
 "cells": [
  {
   "cell_type": "code",
   "execution_count": 1,
   "id": "74ffa353-a015-405d-a99a-ccb8f343919e",
   "metadata": {},
   "outputs": [
    {
     "name": "stdout",
     "output_type": "stream",
     "text": [
      "Please speak something...\n",
      "Sorry, I could not understand the audio.\n"
     ]
    }
   ],
   "source": [
    "import speech_recognition as sr\n",
    "\n",
    "def speech_to_text():\n",
    "    # Initialize recognizer\n",
    "    recognizer = sr.Recognizer()\n",
    "\n",
    "    with sr.Microphone() as source:\n",
    "        print(\"Please speak something...\")\n",
    "        # Listen to the audio\n",
    "        audio = recognizer.listen(source)\n",
    "\n",
    "    try:\n",
    "        # Using Google Speech Recognition to convert speech to text\n",
    "        text = recognizer.recognize_google(audio)\n",
    "        print(f\"Speech to Text: {text}\")\n",
    "        return text\n",
    "    except sr.UnknownValueError:\n",
    "        print(\"Sorry, I could not understand the audio.\")\n",
    "    except sr.RequestError as e:\n",
    "        print(f\"Error with the speech recognition service; {e}\")\n",
    "\n",
    "# Example use\n",
    "speech_to_text()\n"
   ]
  },
  {
   "cell_type": "code",
   "execution_count": 4,
   "id": "0431c8c1-f85c-4199-a411-4bf1fc2aadd7",
   "metadata": {},
   "outputs": [
    {
     "name": "stdout",
     "output_type": "stream",
     "text": [
      "Error: Could not load image at sample.png\n"
     ]
    }
   ],
   "source": [
    "import cv2\n",
    "import pytesseract\n",
    "\n",
    "# Path to the Tesseract executable (change as per your installation)\n",
    "pytesseract.pytesseract.tesseract_cmd = r'C:\\Users\\ishit\\OneDrive\\Desktop'\n",
    "\n",
    "def handwriting_recognition(image_path):\n",
    "    # Read the image\n",
    "    img = cv2.imread(image_path)\n",
    "\n",
    "    # Check if the image was loaded correctly\n",
    "    if img is None:\n",
    "        print(f\"Error: Could not load image at {image_path}\")\n",
    "        return None\n",
    "\n",
    "    # Convert image to grayscale\n",
    "    gray = cv2.cvtColor(img, cv2.COLOR_BGR2GRAY)\n",
    "\n",
    "    # Use Tesseract to do OCR on the image\n",
    "    text = pytesseract.image_to_string(gray)\n",
    "\n",
    "    print(f\"Recognized Handwriting: {text}\")\n",
    "    return text\n",
    "\n",
    "# Example use\n",
    "handwriting_recognition('sample.png')\n"
   ]
  },
  {
   "cell_type": "code",
   "execution_count": null,
   "id": "1570cfc7-ff6f-42eb-bff1-8f7c7533415f",
   "metadata": {},
   "outputs": [],
   "source": []
  }
 ],
 "metadata": {
  "kernelspec": {
   "display_name": "Python 3 (ipykernel)",
   "language": "python",
   "name": "python3"
  },
  "language_info": {
   "codemirror_mode": {
    "name": "ipython",
    "version": 3
   },
   "file_extension": ".py",
   "mimetype": "text/x-python",
   "name": "python",
   "nbconvert_exporter": "python",
   "pygments_lexer": "ipython3",
   "version": "3.12.3"
  }
 },
 "nbformat": 4,
 "nbformat_minor": 5
}
